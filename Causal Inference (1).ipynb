{
 "cells": [
  {
   "cell_type": "markdown",
   "metadata": {},
   "source": [
    "  ##  Importing Libraries    "
   ]
  },
  {
   "cell_type": "code",
   "execution_count": 1,
   "metadata": {},
   "outputs": [
    {
     "name": "stdout",
     "output_type": "stream",
     "text": [
      "package 'tidyverse' successfully unpacked and MD5 sums checked\n",
      "\n",
      "The downloaded binary packages are in\n",
      "\tC:\\Users\\jacob\\AppData\\Local\\Temp\\Rtmpe8jk3N\\downloaded_packages\n",
      "package 'lubridate' successfully unpacked and MD5 sums checked\n",
      "\n",
      "The downloaded binary packages are in\n",
      "\tC:\\Users\\jacob\\AppData\\Local\\Temp\\Rtmpe8jk3N\\downloaded_packages\n",
      "package 'tree' successfully unpacked and MD5 sums checked\n",
      "\n",
      "The downloaded binary packages are in\n",
      "\tC:\\Users\\jacob\\AppData\\Local\\Temp\\Rtmpe8jk3N\\downloaded_packages\n",
      "package 'Matching' successfully unpacked and MD5 sums checked\n",
      "\n",
      "The downloaded binary packages are in\n",
      "\tC:\\Users\\jacob\\AppData\\Local\\Temp\\Rtmpe8jk3N\\downloaded_packages\n",
      "package 'boot' successfully unpacked and MD5 sums checked\n",
      "\n",
      "The downloaded binary packages are in\n",
      "\tC:\\Users\\jacob\\AppData\\Local\\Temp\\Rtmpe8jk3N\\downloaded_packages\n",
      "package 'randomForest' successfully unpacked and MD5 sums checked\n",
      "\n",
      "The downloaded binary packages are in\n",
      "\tC:\\Users\\jacob\\AppData\\Local\\Temp\\Rtmpe8jk3N\\downloaded_packages\n",
      "package 'arm' successfully unpacked and MD5 sums checked\n",
      "\n",
      "The downloaded binary packages are in\n",
      "\tC:\\Users\\jacob\\AppData\\Local\\Temp\\Rtmpe8jk3N\\downloaded_packages\n",
      "package 'ggplot2' successfully unpacked and MD5 sums checked\n",
      "\n",
      "The downloaded binary packages are in\n",
      "\tC:\\Users\\jacob\\AppData\\Local\\Temp\\Rtmpe8jk3N\\downloaded_packages\n",
      "package 'cobalt' successfully unpacked and MD5 sums checked\n",
      "\n",
      "The downloaded binary packages are in\n",
      "\tC:\\Users\\jacob\\AppData\\Local\\Temp\\Rtmpe8jk3N\\downloaded_packages\n"
     ]
    },
    {
     "name": "stderr",
     "output_type": "stream",
     "text": [
      "Warning message:\n",
      "\"package 'sm' was built under R version 3.6.3\"Package 'sm', version 2.2-5.6: type help(sm) for summary information\n",
      "Warning message:\n",
      "\"package 'tidyverse' was built under R version 3.6.3\"-- Attaching packages --------------------------------------- tidyverse 1.3.0 --\n",
      "v ggplot2 3.3.2     v purrr   0.3.4\n",
      "v tibble  3.0.3     v dplyr   1.0.2\n",
      "v tidyr   1.1.2     v stringr 1.4.0\n",
      "v readr   1.4.0     v forcats 0.5.0\n",
      "Warning message:\n",
      "\"package 'ggplot2' was built under R version 3.6.3\"Warning message:\n",
      "\"package 'tibble' was built under R version 3.6.3\"Warning message:\n",
      "\"package 'tidyr' was built under R version 3.6.3\"Warning message:\n",
      "\"package 'readr' was built under R version 3.6.3\"Warning message:\n",
      "\"package 'purrr' was built under R version 3.6.3\"Warning message:\n",
      "\"package 'dplyr' was built under R version 3.6.3\"Warning message:\n",
      "\"package 'stringr' was built under R version 3.6.3\"Warning message:\n",
      "\"package 'forcats' was built under R version 3.6.3\"-- Conflicts ------------------------------------------ tidyverse_conflicts() --\n",
      "x dplyr::filter() masks stats::filter()\n",
      "x dplyr::lag()    masks stats::lag()\n",
      "Warning message:\n",
      "\"package 'lubridate' was built under R version 3.6.3\"\n",
      "Attaching package: 'lubridate'\n",
      "\n",
      "The following objects are masked from 'package:base':\n",
      "\n",
      "    date, intersect, setdiff, union\n",
      "\n",
      "Warning message:\n",
      "\"package 'tree' was built under R version 3.6.3\"Registered S3 method overwritten by 'tree':\n",
      "  method     from\n",
      "  print.tree cli \n",
      "Warning message:\n",
      "\"package 'Matching' was built under R version 3.6.3\"Loading required package: MASS\n",
      "Warning message:\n",
      "\"package 'MASS' was built under R version 3.6.3\"\n",
      "Attaching package: 'MASS'\n",
      "\n",
      "The following object is masked from 'package:dplyr':\n",
      "\n",
      "    select\n",
      "\n",
      "The following object is masked from 'package:sm':\n",
      "\n",
      "    muscle\n",
      "\n",
      "## \n",
      "##  Matching (Version 4.9-7, Build Date: 2020-02-05)\n",
      "##  See http://sekhon.berkeley.edu/matching for additional documentation.\n",
      "##  Please cite software as:\n",
      "##   Jasjeet S. Sekhon. 2011. ``Multivariate and Propensity Score Matching\n",
      "##   Software with Automated Balance Optimization: The Matching package for R.''\n",
      "##   Journal of Statistical Software, 42(7): 1-52. \n",
      "##\n",
      "\n",
      "Warning message:\n",
      "\"package 'boot' was built under R version 3.6.3\"\n",
      "Attaching package: 'boot'\n",
      "\n",
      "The following object is masked from 'package:sm':\n",
      "\n",
      "    dogs\n",
      "\n",
      "Warning message:\n",
      "\"package 'randomForest' was built under R version 3.6.3\"randomForest 4.6-14\n",
      "Type rfNews() to see new features/changes/bug fixes.\n",
      "\n",
      "Attaching package: 'randomForest'\n",
      "\n",
      "The following object is masked from 'package:dplyr':\n",
      "\n",
      "    combine\n",
      "\n",
      "The following object is masked from 'package:ggplot2':\n",
      "\n",
      "    margin\n",
      "\n",
      "Warning message:\n",
      "\"package 'arm' was built under R version 3.6.3\"Loading required package: Matrix\n",
      "Warning message:\n",
      "\"package 'Matrix' was built under R version 3.6.3\"\n",
      "Attaching package: 'Matrix'\n",
      "\n",
      "The following objects are masked from 'package:tidyr':\n",
      "\n",
      "    expand, pack, unpack\n",
      "\n",
      "Loading required package: lme4\n",
      "Warning message:\n",
      "\"package 'lme4' was built under R version 3.6.3\""
     ]
    },
    {
     "ename": "ERROR",
     "evalue": "Error: package or namespace load failed for 'arm' in loadNamespace(j <- i[[1L]], c(lib.loc, .libPaths()), versionCheck = vI[[j]]):\n there is no package called 'foreign'\n",
     "output_type": "error",
     "traceback": [
      "Error: package or namespace load failed for 'arm' in loadNamespace(j <- i[[1L]], c(lib.loc, .libPaths()), versionCheck = vI[[j]]):\n there is no package called 'foreign'\nTraceback:\n",
      "1. library(arm)",
      "2. tryCatch({\n .     attr(package, \"LibPath\") <- which.lib.loc\n .     ns <- loadNamespace(package, lib.loc)\n .     env <- attachNamespace(ns, pos = pos, deps, exclude, include.only)\n . }, error = function(e) {\n .     P <- if (!is.null(cc <- conditionCall(e))) \n .         paste(\" in\", deparse(cc)[1L])\n .     else \"\"\n .     msg <- gettextf(\"package or namespace load failed for %s%s:\\n %s\", \n .         sQuote(package), P, conditionMessage(e))\n .     if (logical.return) \n .         message(paste(\"Error:\", msg), domain = NA)\n .     else stop(msg, call. = FALSE, domain = NA)\n . })",
      "3. tryCatchList(expr, classes, parentenv, handlers)",
      "4. tryCatchOne(expr, names, parentenv, handlers[[1L]])",
      "5. value[[3L]](cond)",
      "6. stop(msg, call. = FALSE, domain = NA)"
     ]
    }
   ],
   "source": [
    "install.packages(\"tidyverse\") \n",
    "install.packages(\"lubridate\")\n",
    "install.packages(\"tree\")\n",
    "install.packages(\"Matching\")\n",
    "install.packages(\"boot\")\n",
    "install.packages(\"randomForest\")\n",
    "install.packages(\"arm\")\n",
    "install.packages(\"ggplot2\")\n",
    "install.packages(\"cobalt\")\n",
    "library(sm)\n",
    "library(tidyverse) # for data manipulation and visualization\n",
    "library(lubridate)\n",
    "library(tree)\n",
    "library(Matching)\n",
    "library(boot)\n",
    "library(randomForest)\n",
    "library(arm)\n",
    "library(ggplot2)\n",
    "library(cobalt)"
   ]
  },
  {
   "cell_type": "markdown",
   "metadata": {},
   "source": [
    "  ##  Data Creation (Number 1) "
   ]
  },
  {
   "cell_type": "code",
   "execution_count": 62,
   "metadata": {},
   "outputs": [],
   "source": [
    "## Given Code\n",
    "n = 1000\n",
    "## Generating a random data set here\n",
    "#Syntax for the normal distribution here is rnorm(sample size, mean, SD)\n",
    "V1 = rnorm(n, 45, 10)\n",
    "#getting a binary variable\n",
    "V2 = sample(c(1,0), \n",
    "             replace = TRUE, \n",
    "             size = n,\n",
    "             prob = c(.4,.6))\n",
    "V3 = rnorm(n, V1/10, 1)\n",
    "V4 = rnorm(n, 0, 1)\n",
    "D  = as.numeric(pnorm(rnorm(n, .01*V1 + .8*V2 + 0.3*V3 + V4, 1), .45 + .32 + .3*4.5, 1) > .5)\n",
    "Y  = rnorm(n, .8*D - 0.45*V2 - .4*V3 + 2, .2)\n",
    "# combining everything in a data frame\n",
    "df = data.frame(V1, V2, V3, V4, D, Y)\n"
   ]
  },
  {
   "cell_type": "markdown",
   "metadata": {},
   "source": [
    "\n",
    "## Plotting the outcome variable against the treatment variable. "
   ]
  },
  {
   "cell_type": "code",
   "execution_count": 4,
   "metadata": {},
   "outputs": [
    {
     "name": "stderr",
     "output_type": "stream",
     "text": [
      "`geom_smooth()` using formula 'y ~ x'\n"
     ]
    },
    {
     "data": {
      "image/png": "[encoded data removed]",
      "text/plain": [
       "plot without title"
      ]
     },
     "metadata": {},
     "output_type": "display_data"
    }
   ],
   "source": [
    "plot =ggplot(df, aes(x=D, y=Y))+geom_point()+ geom_smooth(method=\"glm\", col=\"red\", se = FALSE)+ggtitle(\"Treatment Y against Outcome D\" )\n",
    "plot\n",
    "\n"
   ]
  },
  {
   "cell_type": "code",
   "execution_count": 63,
   "metadata": {},
   "outputs": [
    {
     "data": {
      "text/html": [
       "-0.531007426117654"
      ],
      "text/latex": [
       "-0.531007426117654"
      ],
      "text/markdown": [
       "-0.531007426117654"
      ],
      "text/plain": [
       "[1] -0.5310074"
      ]
     },
     "metadata": {},
     "output_type": "display_data"
    },
    {
     "data": {
      "text/html": [
       "-0.264660557516544"
      ],
      "text/latex": [
       "-0.264660557516544"
      ],
      "text/markdown": [
       "-0.264660557516544"
      ],
      "text/plain": [
       "[1] -0.2646606"
      ]
     },
     "metadata": {},
     "output_type": "display_data"
    },
    {
     "data": {
      "text/html": [
       "-0.729465480116947"
      ],
      "text/latex": [
       "-0.729465480116947"
      ],
      "text/markdown": [
       "-0.729465480116947"
      ],
      "text/plain": [
       "[1] -0.7294655"
      ]
     },
     "metadata": {},
     "output_type": "display_data"
    },
    {
     "data": {
      "text/html": [
       "0.328142659775772"
      ],
      "text/latex": [
       "0.328142659775772"
      ],
      "text/markdown": [
       "0.328142659775772"
      ],
      "text/plain": [
       "[1] 0.3281427"
      ]
     },
     "metadata": {},
     "output_type": "display_data"
    },
    {
     "data": {
      "text/html": [
       "0.290466917441786"
      ],
      "text/latex": [
       "0.290466917441786"
      ],
      "text/markdown": [
       "0.290466917441786"
      ],
      "text/plain": [
       "[1] 0.2904669"
      ]
     },
     "metadata": {},
     "output_type": "display_data"
    }
   ],
   "source": [
    "#How is the Data Correlated?\n",
    "glm1 <- glm(Y~V1)\n",
    "glm2 <- glm(Y~V2)\n",
    "glm3 <- glm(Y~V3)\n",
    "glm4 <- glm(Y~V4)\n",
    "glm5 <- glm(Y~D)\n",
    "cor(Y,V1) \n",
    "cor(Y,V2)\n",
    "cor(Y,V3)\n",
    "cor(Y,V4)\n",
    "cor(Y,D)"
   ]
  },
  {
   "cell_type": "markdown",
   "metadata": {},
   "source": [
    "## Balance"
   ]
  },
  {
   "cell_type": "code",
   "execution_count": 64,
   "metadata": {},
   "outputs": [
    {
     "name": "stderr",
     "output_type": "stream",
     "text": [
      "Warning message:\n",
      "\"package 'gridExtra' is in use and will not be installed\""
     ]
    },
    {
     "data": {
      "image/png": "[encoded data removed]",
      "text/plain": [
       "plot without title"
      ]
     },
     "metadata": {},
     "output_type": "display_data"
    }
   ],
   "source": [
    "library(sm)\n",
    "library(ggplot2)\n",
    "install.packages(\"gridExtra\")\n",
    "library(gridExtra)\n",
    "\n",
    "dens_plot1 <- bal.plot(x = df, var.name=\"V1\", type = \"density\", which = \"adjusted\", mirror = FALSE, treat = df$D)\n",
    "dens_plot2 <- bal.plot(x = df, var.name=\"V2\", type = \"density\", which = \"adjusted\", mirror = FALSE, treat = df$D)\n",
    "dens_plot3 <- bal.plot(x = df, var.name=\"V3\", type = \"density\", which = \"adjusted\", mirror = FALSE, treat = df$D)\n",
    "dens_plot4 <- bal.plot(x = df, var.name=\"V4\", type = \"density\", which = \"adjusted\", mirror = FALSE, treat = df$D)\n",
    "\n",
    "#I understand that histogram is more appropriate in this case, but I find the density graphs more intuitive examine balance, so I added them as well\n",
    "grid.arrange(dens_plot1, dens_plot2, dens_plot3, dens_plot4, nrow = 2)"
   ]
  },
  {
   "cell_type": "markdown",
   "metadata": {},
   "source": [
    "## Balance of Means"
   ]
  },
  {
   "cell_type": "code",
   "execution_count": 65,
   "metadata": {},
   "outputs": [
    {
     "name": "stderr",
     "output_type": "stream",
     "text": [
      "Warning message:\n",
      "\"Deprecated\"Note: 's.d.denom' not specified; assuming pooled.\n",
      "Warning message:\n",
      "\"Standardized mean differences and raw mean differences are present in the same plot. \n",
      "Use the 'stars' argument to distinguish between them and appropriately label the x-axis.\""
     ]
    },
    {
     "data": {
      "image/png": "[encoded data removed]",
      "text/plain": [
       "plot without title"
      ]
     },
     "metadata": {},
     "output_type": "display_data"
    }
   ],
   "source": [
    "library(WeightIt)\n",
    "library(cobalt)\n",
    " \n",
    "prop1 <- glm(D ~V1+V2+V3+V4 , family = \"binomial\",data=df)\n",
    "love.plot(prop1)\n"
   ]
  },
  {
   "cell_type": "markdown",
   "metadata": {},
   "source": [
    "## Prima Facie treatment effect "
   ]
  },
  {
   "cell_type": "code",
   "execution_count": 66,
   "metadata": {},
   "outputs": [
    {
     "data": {
      "text/html": [
       "0.388749034358967"
      ],
      "text/latex": [
       "0.388749034358967"
      ],
      "text/markdown": [
       "0.388749034358967"
      ],
      "text/plain": [
       "[1] 0.388749"
      ]
     },
     "metadata": {},
     "output_type": "display_data"
    }
   ],
   "source": [
    "mean(df$Y[D == 1]) - mean(df$Y[D == 0]) #Difference btw expected outcome and outcome observed?\n",
    "#D is the treatment variable. We subtract average of datasets with 1 in treatment and 0 for Control.\n"
   ]
  },
  {
   "cell_type": "markdown",
   "metadata": {},
   "source": [
    "## Balance of Covariates"
   ]
  },
  {
   "cell_type": "code",
   "execution_count": 68,
   "metadata": {},
   "outputs": [
    {
     "data": {
      "image/png": "[encoded data removed]",
      "text/plain": [
       "plot without title"
      ]
     },
     "metadata": {},
     "output_type": "display_data"
    }
   ],
   "source": [
    "#Reviewed ny Answer with Daniel Kalu\n",
    "library(sm)\n",
    "library(ggplot2)\n",
    "#install.packages(\"gridExtra\")\n",
    "library(gridExtra)\n",
    " \n",
    "dens_plot1 <- bal.plot(matchout.prop, var.name=\"V1\", type = \"density\", which = \"adjusted\", covs = cbind(V1, V2, V3, V4),mirror = FALSE, treat = df$D)\n",
    "dens_plot2 <- bal.plot(matchout.prop, var.name=\"V2\", type = \"density\", which = \"adjusted\", covs = cbind(V1, V2, V3, V4), mirror = FALSE, treat = df$D)\n",
    "dens_plot3 <- bal.plot(matchout.prop, var.name=\"V3\", type = \"density\", which = \"adjusted\", covs = cbind(V1, V2, V3, V4),mirror = FALSE, treat = df$D)\n",
    "dens_plot4 <- bal.plot(matchout.prop, var.name=\"V4\", type = \"density\", which = \"adjusted\",covs = cbind(V1, V2, V3, V4), mirror = FALSE, treat = df$D)\n",
    " \n",
    " \n",
    "grid.arrange(dens_plot1, dens_plot2, dens_plot3, dens_plot4, nrow = 2)\n",
    " \n"
   ]
  },
  {
   "cell_type": "markdown",
   "metadata": {},
   "source": [
    "## Question 2\n"
   ]
  },
  {
   "cell_type": "code",
   "execution_count": 72,
   "metadata": {},
   "outputs": [
    {
     "ename": "ERROR",
     "evalue": "Error in read.csv(url(\"http://bit.ly/daughters_data\")) %>% daughters = read.csv(url(\"http://bit.ly/daughters_data\")): target of assignment expands to non-language object\n",
     "output_type": "error",
     "traceback": [
      "Error in read.csv(url(\"http://bit.ly/daughters_data\")) %>% daughters = read.csv(url(\"http://bit.ly/daughters_data\")): target of assignment expands to non-language object\nTraceback:\n"
     ]
    }
   ],
   "source": [
    "daughters = read.csv(url(\"http://bit.ly/daughters_data\")) %>% \n",
    " # clean_names()\n",
    "daughters = read.csv(url(\"http://bit.ly/daughters_data\"))\n",
    "#(which(is.na(daughters)))\n",
    "daughter <- (na.omit(daughters)) #Omit Null Values\n",
    "summary(daughters) #Summarize Data\n",
    "head(daughters)\n",
    "#clean_names()\n",
    "colnames(daughters, do.NULL = TRUE, prefix = \"col\") #Check ColumnS \n",
    "glm1 <- glm( nowtot ~Dems + Repubs+ Christian + age+ srvlng + demvote, data=daughters) #Regress the model using hasgirls as\n",
    "#treated variables\n",
    "glm1 <- glm( hasgirls ~Dems + Repubs+ Christian + age+ srvlng + demvote, data=daughters) #Regress the model using hasgirls as\n",
    "#treated variable\n",
    "glm1\n",
    "summary(glm1)\n",
    "coef(summary(glm1))[\"hasgirls\",\"Estimate\"]\n",
    "confint(glm1, \"hasgirls\")\n",
    " \n",
    "data2 <- subset(daughter, select = c(Dems, Repubs, Christian, age, srvlng, demvote))\n",
    " \n",
    "bal <- bal.plot(daughter$hasgirls ~ daughter$age,  type = \"density\", treat = daughter$hasgirls)\n",
    "bal2 <- bal.plot(daughter$hasgirls ~ daughter$srvlng,  type = \"density\", treat = daughter$hasgirls)\n",
    "bal3 <- bal.plot(daughter$hasgirls ~ daughter$demvote,  type = \"density\", treat = daughter$hasgirls)\n",
    " \n",
    "grid.arrange(bal, bal2 , bal3,  nrow = 2)\n"
   ]
  },
  {
   "cell_type": "markdown",
   "metadata": {},
   "source": [
    "## Genetic Matching"
   ]
  },
  {
   "cell_type": "code",
   "execution_count": 73,
   "metadata": {},
   "outputs": [
    {
     "name": "stderr",
     "output_type": "stream",
     "text": [
      "The following object is masked _by_ .GlobalEnv:\n",
      "\n",
      "    X\n",
      "\n",
      "The following objects are masked from daughter (pos = 3):\n",
      "\n",
      "    aauw, age, alabort, anygirls, bday, Catholic, Christian, congress,\n",
      "    Dems, demvote, district, dr1per, dr2per, dr3per, dr4per, dr5per,\n",
      "    female, hasboys, hasgirls, haskids, medinc, morecrimesp, moredef,\n",
      "    moreserv, name, nboys, ngirls, none, now1, now10, now11, now12,\n",
      "    now13, now14, now15, now16, now17, now18, now19, now2, now20, now3,\n",
      "    now4, now5, now6, now7, now8, now9, nowtot, OtherC, OtherR,\n",
      "    OthParty, party, percol, perf, perhs, perur, perw, propgirls,\n",
      "    Protestant, protgay, reg1, reg2, reg3, reg4, reg5, reg6, reg7,\n",
      "    reg8, reg9, region, repub, Repubs, rgroup, rtl, srvlng, statabb,\n",
      "    statalph, statenam, totchi, white, X, year\n",
      "\n",
      "The following objects are masked from daughter (pos = 4):\n",
      "\n",
      "    aauw, age, alabort, anygirls, bday, Catholic, Christian, congress,\n",
      "    Dems, demvote, district, dr1per, dr2per, dr3per, dr4per, dr5per,\n",
      "    female, hasboys, hasgirls, haskids, medinc, morecrimesp, moredef,\n",
      "    moreserv, name, nboys, ngirls, none, now1, now10, now11, now12,\n",
      "    now13, now14, now15, now16, now17, now18, now19, now2, now20, now3,\n",
      "    now4, now5, now6, now7, now8, now9, nowtot, OtherC, OtherR,\n",
      "    OthParty, party, percol, perf, perhs, perur, perw, propgirls,\n",
      "    Protestant, protgay, reg1, reg2, reg3, reg4, reg5, reg6, reg7,\n",
      "    reg8, reg9, region, repub, Repubs, rgroup, rtl, srvlng, statabb,\n",
      "    statalph, statenam, totchi, white, X, year\n",
      "\n",
      "The following objects are masked from daughter (pos = 5):\n",
      "\n",
      "    aauw, age, alabort, anygirls, bday, Catholic, Christian, congress,\n",
      "    Dems, demvote, district, dr1per, dr2per, dr3per, dr4per, dr5per,\n",
      "    female, hasboys, hasgirls, haskids, medinc, morecrimesp, moredef,\n",
      "    moreserv, name, nboys, ngirls, none, now1, now10, now11, now12,\n",
      "    now13, now14, now15, now16, now17, now18, now19, now2, now20, now3,\n",
      "    now4, now5, now6, now7, now8, now9, nowtot, OtherC, OtherR,\n",
      "    OthParty, party, percol, perf, perhs, perur, perw, propgirls,\n",
      "    Protestant, protgay, reg1, reg2, reg3, reg4, reg5, reg6, reg7,\n",
      "    reg8, reg9, region, repub, Repubs, rgroup, rtl, srvlng, statabb,\n",
      "    statalph, statenam, totchi, white, X, year\n",
      "\n",
      "The following objects are masked from daughters (pos = 6):\n",
      "\n",
      "    aauw, age, alabort, anygirls, bday, Catholic, Christian, congress,\n",
      "    Dems, demvote, district, dr1per, dr2per, dr3per, dr4per, dr5per,\n",
      "    female, hasboys, hasgirls, haskids, medinc, morecrimesp, moredef,\n",
      "    moreserv, name, nboys, ngirls, none, now1, now10, now11, now12,\n",
      "    now13, now14, now15, now16, now17, now18, now19, now2, now20, now3,\n",
      "    now4, now5, now6, now7, now8, now9, nowtot, OtherC, OtherR,\n",
      "    OthParty, party, percol, perf, perhs, perur, perw, propgirls,\n",
      "    Protestant, protgay, reg1, reg2, reg3, reg4, reg5, reg6, reg7,\n",
      "    reg8, reg9, region, repub, Repubs, rgroup, rtl, srvlng, statabb,\n",
      "    statalph, statenam, totchi, white, X, year\n",
      "\n",
      "The following objects are masked from daughters (pos = 7):\n",
      "\n",
      "    aauw, age, alabort, anygirls, bday, Catholic, Christian, congress,\n",
      "    Dems, demvote, district, dr1per, dr2per, dr3per, dr4per, dr5per,\n",
      "    female, hasboys, hasgirls, haskids, medinc, morecrimesp, moredef,\n",
      "    moreserv, name, nboys, ngirls, none, now1, now10, now11, now12,\n",
      "    now13, now14, now15, now16, now17, now18, now19, now2, now20, now3,\n",
      "    now4, now5, now6, now7, now8, now9, nowtot, OtherC, OtherR,\n",
      "    OthParty, party, percol, perf, perhs, perur, perw, propgirls,\n",
      "    Protestant, protgay, reg1, reg2, reg3, reg4, reg5, reg6, reg7,\n",
      "    reg8, reg9, region, repub, Repubs, rgroup, rtl, srvlng, statabb,\n",
      "    statalph, statenam, totchi, white, X, year\n",
      "\n"
     ]
    },
    {
     "name": "stdout",
     "output_type": "stream",
     "text": [
      "Treatment Effect Post Genetic Matching: 0.8653846"
     ]
    }
   ],
   "source": [
    "#Got some small Help From Naol Sileshi\n",
    "# attach dataset\n",
    "attach(daughters)\n",
    " \n",
    "# bind multivariate\n",
    "X <- cbind(Dems,Repubs,Christian,age,srvlng,demvote)\n",
    " \n",
    "# set treatment variable\n",
    "Tr <- hasgirls\n",
    " \n",
    "# run genetic matching\n",
    "gen1.out <- GenMatch(Tr = Tr,\n",
    "                   X = X,\n",
    "                   estimand = \"ATT\",\n",
    "                   M = 1,\n",
    "                   pop.size = 16,\n",
    "                   max.generations = 10,\n",
    "                   wait.generations = 5,\n",
    "                   unif.seed = 123, \n",
    "                   int.seed = 92485,\n",
    "                   print.level = 0)\n",
    " \n",
    "# match to get treatment effect\n",
    "m3.out <- Match(Tr = Tr,\n",
    "                X = X,\n",
    "                Y = nowtot,\n",
    "                M = 1,\n",
    "                estimand = \"ATT\",\n",
    "                Weight.matrix = gen1.out\n",
    "          )\n",
    " \n",
    "# detach dataset\n",
    "detach(daughters)\n",
    " \n",
    "# present treatment effect\n",
    "cat(\"Treatment Effect Post Genetic Matching:\", m3.out$est)\n"
   ]
  },
  {
   "cell_type": "markdown",
   "metadata": {},
   "source": [
    "## Improvements to Genetic Matches"
   ]
  },
  {
   "cell_type": "code",
   "execution_count": 74,
   "metadata": {},
   "outputs": [
    {
     "name": "stderr",
     "output_type": "stream",
     "text": [
      "The following object is masked _by_ .GlobalEnv:\n",
      "\n",
      "    X\n",
      "\n",
      "The following objects are masked from daughter (pos = 3):\n",
      "\n",
      "    aauw, age, alabort, anygirls, bday, Catholic, Christian, congress,\n",
      "    Dems, demvote, district, dr1per, dr2per, dr3per, dr4per, dr5per,\n",
      "    female, hasboys, hasgirls, haskids, medinc, morecrimesp, moredef,\n",
      "    moreserv, name, nboys, ngirls, none, now1, now10, now11, now12,\n",
      "    now13, now14, now15, now16, now17, now18, now19, now2, now20, now3,\n",
      "    now4, now5, now6, now7, now8, now9, nowtot, OtherC, OtherR,\n",
      "    OthParty, party, percol, perf, perhs, perur, perw, propgirls,\n",
      "    Protestant, protgay, reg1, reg2, reg3, reg4, reg5, reg6, reg7,\n",
      "    reg8, reg9, region, repub, Repubs, rgroup, rtl, srvlng, statabb,\n",
      "    statalph, statenam, totchi, white, X, year\n",
      "\n",
      "The following objects are masked from daughter (pos = 4):\n",
      "\n",
      "    aauw, age, alabort, anygirls, bday, Catholic, Christian, congress,\n",
      "    Dems, demvote, district, dr1per, dr2per, dr3per, dr4per, dr5per,\n",
      "    female, hasboys, hasgirls, haskids, medinc, morecrimesp, moredef,\n",
      "    moreserv, name, nboys, ngirls, none, now1, now10, now11, now12,\n",
      "    now13, now14, now15, now16, now17, now18, now19, now2, now20, now3,\n",
      "    now4, now5, now6, now7, now8, now9, nowtot, OtherC, OtherR,\n",
      "    OthParty, party, percol, perf, perhs, perur, perw, propgirls,\n",
      "    Protestant, protgay, reg1, reg2, reg3, reg4, reg5, reg6, reg7,\n",
      "    reg8, reg9, region, repub, Repubs, rgroup, rtl, srvlng, statabb,\n",
      "    statalph, statenam, totchi, white, X, year\n",
      "\n",
      "The following objects are masked from daughter (pos = 5):\n",
      "\n",
      "    aauw, age, alabort, anygirls, bday, Catholic, Christian, congress,\n",
      "    Dems, demvote, district, dr1per, dr2per, dr3per, dr4per, dr5per,\n",
      "    female, hasboys, hasgirls, haskids, medinc, morecrimesp, moredef,\n",
      "    moreserv, name, nboys, ngirls, none, now1, now10, now11, now12,\n",
      "    now13, now14, now15, now16, now17, now18, now19, now2, now20, now3,\n",
      "    now4, now5, now6, now7, now8, now9, nowtot, OtherC, OtherR,\n",
      "    OthParty, party, percol, perf, perhs, perur, perw, propgirls,\n",
      "    Protestant, protgay, reg1, reg2, reg3, reg4, reg5, reg6, reg7,\n",
      "    reg8, reg9, region, repub, Repubs, rgroup, rtl, srvlng, statabb,\n",
      "    statalph, statenam, totchi, white, X, year\n",
      "\n",
      "The following objects are masked from daughters (pos = 6):\n",
      "\n",
      "    aauw, age, alabort, anygirls, bday, Catholic, Christian, congress,\n",
      "    Dems, demvote, district, dr1per, dr2per, dr3per, dr4per, dr5per,\n",
      "    female, hasboys, hasgirls, haskids, medinc, morecrimesp, moredef,\n",
      "    moreserv, name, nboys, ngirls, none, now1, now10, now11, now12,\n",
      "    now13, now14, now15, now16, now17, now18, now19, now2, now20, now3,\n",
      "    now4, now5, now6, now7, now8, now9, nowtot, OtherC, OtherR,\n",
      "    OthParty, party, percol, perf, perhs, perur, perw, propgirls,\n",
      "    Protestant, protgay, reg1, reg2, reg3, reg4, reg5, reg6, reg7,\n",
      "    reg8, reg9, region, repub, Repubs, rgroup, rtl, srvlng, statabb,\n",
      "    statalph, statenam, totchi, white, X, year\n",
      "\n",
      "The following objects are masked from daughters (pos = 7):\n",
      "\n",
      "    aauw, age, alabort, anygirls, bday, Catholic, Christian, congress,\n",
      "    Dems, demvote, district, dr1per, dr2per, dr3per, dr4per, dr5per,\n",
      "    female, hasboys, hasgirls, haskids, medinc, morecrimesp, moredef,\n",
      "    moreserv, name, nboys, ngirls, none, now1, now10, now11, now12,\n",
      "    now13, now14, now15, now16, now17, now18, now19, now2, now20, now3,\n",
      "    now4, now5, now6, now7, now8, now9, nowtot, OtherC, OtherR,\n",
      "    OthParty, party, percol, perf, perhs, perur, perw, propgirls,\n",
      "    Protestant, protgay, reg1, reg2, reg3, reg4, reg5, reg6, reg7,\n",
      "    reg8, reg9, region, repub, Repubs, rgroup, rtl, srvlng, statabb,\n",
      "    statalph, statenam, totchi, white, X, year\n",
      "\n",
      "Warning message in fn(par, ...):\n",
      "\"no valid matches found in GenMatch evaluation\"Warning message in fn(par, ...):\n",
      "\"no valid matches found in GenMatch evaluation\"Warning message in fn(par, ...):\n",
      "\"no valid matches found in GenMatch evaluation\"Warning message in fn(par, ...):\n",
      "\"no valid matches found in GenMatch evaluation\"Warning message in fn(par, ...):\n",
      "\"no valid matches found in GenMatch evaluation\"Warning message in fn(par, ...):\n",
      "\"no valid matches found in GenMatch evaluation\"Warning message in fn(par, ...):\n",
      "\"no valid matches found in GenMatch evaluation\"Warning message in fn(par, ...):\n",
      "\"no valid matches found in GenMatch evaluation\"Warning message in fn(par, ...):\n",
      "\"no valid matches found in GenMatch evaluation\"Warning message in fn(par, ...):\n",
      "\"no valid matches found in GenMatch evaluation\"Warning message in fn(par, ...):\n",
      "\"no valid matches found in GenMatch evaluation\"Warning message in fn(par, ...):\n",
      "\"no valid matches found in GenMatch evaluation\"Warning message in fn(par, ...):\n",
      "\"no valid matches found in GenMatch evaluation\"Warning message in fn(par, ...):\n",
      "\"no valid matches found in GenMatch evaluation\"Warning message in fn(par, ...):\n",
      "\"no valid matches found in GenMatch evaluation\"Warning message in fn(par, ...):\n",
      "\"no valid matches found in GenMatch evaluation\"Warning message in fn(par, ...):\n",
      "\"no valid matches found in GenMatch evaluation\"Warning message in fn(par, ...):\n",
      "\"no valid matches found in GenMatch evaluation\"Warning message in fn(par, ...):\n",
      "\"no valid matches found in GenMatch evaluation\"Warning message in fn(par, ...):\n",
      "\"no valid matches found in GenMatch evaluation\"Warning message in fn(par, ...):\n",
      "\"no valid matches found in GenMatch evaluation\"Warning message in fn(par, ...):\n",
      "\"no valid matches found in GenMatch evaluation\"Warning message in fn(par, ...):\n",
      "\"no valid matches found in GenMatch evaluation\"Warning message in fn(par, ...):\n",
      "\"no valid matches found in GenMatch evaluation\"Warning message in fn(par, ...):\n",
      "\"no valid matches found in GenMatch evaluation\"Warning message in fn(par, ...):\n",
      "\"no valid matches found in GenMatch evaluation\"Warning message in fn(par, ...):\n",
      "\"no valid matches found in GenMatch evaluation\"Warning message in fn(par, ...):\n",
      "\"no valid matches found in GenMatch evaluation\"Warning message in fn(par, ...):\n",
      "\"no valid matches found in GenMatch evaluation\"Warning message in fn(par, ...):\n",
      "\"no valid matches found in GenMatch evaluation\"Warning message in fn(par, ...):\n",
      "\"no valid matches found in GenMatch evaluation\"Warning message in fn(par, ...):\n",
      "\"no valid matches found in GenMatch evaluation\"Warning message in fn(par, ...):\n",
      "\"no valid matches found in GenMatch evaluation\"Warning message in fn(par, ...):\n",
      "\"no valid matches found in GenMatch evaluation\"Warning message in fn(par, ...):\n",
      "\"no valid matches found in GenMatch evaluation\"Warning message in fn(par, ...):\n",
      "\"no valid matches found in GenMatch evaluation\"Warning message in fn(par, ...):\n",
      "\"no valid matches found in GenMatch evaluation\"Warning message in fn(par, ...):\n",
      "\"no valid matches found in GenMatch evaluation\"Warning message in fn(par, ...):\n",
      "\"no valid matches found in GenMatch evaluation\"Warning message in fn(par, ...):\n",
      "\"no valid matches found in GenMatch evaluation\"Warning message in fn(par, ...):\n",
      "\"no valid matches found in GenMatch evaluation\"Warning message in fn(par, ...):\n",
      "\"no valid matches found in GenMatch evaluation\"Warning message in fn(par, ...):\n",
      "\"no valid matches found in GenMatch evaluation\"Warning message in fn(par, ...):\n",
      "\"no valid matches found in GenMatch evaluation\"Warning message in fn(par, ...):\n",
      "\"no valid matches found in GenMatch evaluation\"Warning message in fn(par, ...):\n",
      "\"no valid matches found in GenMatch evaluation\"Warning message in fn(par, ...):\n",
      "\"no valid matches found in GenMatch evaluation\"Warning message in fn(par, ...):\n",
      "\"no valid matches found in GenMatch evaluation\"Warning message in fn(par, ...):\n",
      "\"no valid matches found in GenMatch evaluation\"Warning message in fn(par, ...):\n",
      "\"no valid matches found in GenMatch evaluation\"Warning message in fn(par, ...):\n",
      "\"no valid matches found in GenMatch evaluation\"Warning message in fn(par, ...):\n",
      "\"no valid matches found in GenMatch evaluation\"Warning message in GenMatch(Tr = Tr, X = X, estimand = \"ATT\", M = 4, pop.size = 14, :\n",
      "\"no valid matches found by GenMatch\""
     ]
    },
    {
     "name": "stdout",
     "output_type": "stream",
     "text": [
      "Treatment Effect Post Genetic Matching: 0.9695513\n",
      "Estimate...  0.96955 \n",
      "AI SE......  2.1335 \n",
      "T-stat.....  0.45444 \n",
      "p.val......  0.64951 \n",
      "\n",
      "Original number of observations..............  430 \n",
      "Original number of treated obs...............  312 \n",
      "Matched number of observations...............  312 \n",
      "Matched number of observations  (unweighted).  313 \n",
      "\n"
     ]
    },
    {
     "data": {
      "text/plain": [
       "              Length Class  Mode   \n",
       "value         12     -none- numeric\n",
       "par            6     -none- numeric\n",
       "Weight.matrix 36     -none- numeric\n",
       "matches        6     -none- numeric\n",
       "ecaliper       6     -none- numeric"
      ]
     },
     "metadata": {},
     "output_type": "display_data"
    }
   ],
   "source": [
    "# attach dataset\n",
    "attach(daughters)\n",
    " \n",
    "# bind multivariate\n",
    "X <- cbind(Dems,Repubs,Christian,age,srvlng,demvote)\n",
    " \n",
    "# set treatment variable\n",
    "Tr <- hasgirls\n",
    " \n",
    "# run genetic matching\n",
    "gen1.out <- GenMatch(Tr = Tr,\n",
    "                   X = X,\n",
    "                   estimand = \"ATT\",\n",
    "                   M = 4,\n",
    "                   pop.size = 14,\n",
    "                   max.generations = 10,\n",
    "                   wait.generations = 2,\n",
    "                   unif.seed = 123, \n",
    "                   int.seed = 92485,\n",
    "                     caliper=0.1,\n",
    "                   print.level = 0)\n",
    " \n",
    "# match to get treatment effect\n",
    "m3.out <- Match(Tr = Tr,\n",
    "                X = X,\n",
    "                Y = nowtot,\n",
    "                M = 1,\n",
    "                estimand = \"ATT\",\n",
    "                Weight.matrix = gen1.out\n",
    "          )\n",
    " \n",
    "# detach dataset\n",
    "detach(daughters)\n",
    " \n",
    "# present treatment effect\n",
    "cat(\"Treatment Effect Post Genetic Matching:\", m3.out$est)\n",
    "summary(m3.out)\n",
    "summary(gen1.out)\n"
   ]
  },
  {
   "cell_type": "markdown",
   "metadata": {},
   "source": [
    "## Improvement 2"
   ]
  },
  {
   "cell_type": "code",
   "execution_count": 75,
   "metadata": {},
   "outputs": [
    {
     "name": "stderr",
     "output_type": "stream",
     "text": [
      "The following object is masked _by_ .GlobalEnv:\n",
      "\n",
      "    X\n",
      "\n",
      "The following objects are masked from daughter (pos = 3):\n",
      "\n",
      "    aauw, age, alabort, anygirls, bday, Catholic, Christian, congress,\n",
      "    Dems, demvote, district, dr1per, dr2per, dr3per, dr4per, dr5per,\n",
      "    female, hasboys, hasgirls, haskids, medinc, morecrimesp, moredef,\n",
      "    moreserv, name, nboys, ngirls, none, now1, now10, now11, now12,\n",
      "    now13, now14, now15, now16, now17, now18, now19, now2, now20, now3,\n",
      "    now4, now5, now6, now7, now8, now9, nowtot, OtherC, OtherR,\n",
      "    OthParty, party, percol, perf, perhs, perur, perw, propgirls,\n",
      "    Protestant, protgay, reg1, reg2, reg3, reg4, reg5, reg6, reg7,\n",
      "    reg8, reg9, region, repub, Repubs, rgroup, rtl, srvlng, statabb,\n",
      "    statalph, statenam, totchi, white, X, year\n",
      "\n",
      "The following objects are masked from daughter (pos = 4):\n",
      "\n",
      "    aauw, age, alabort, anygirls, bday, Catholic, Christian, congress,\n",
      "    Dems, demvote, district, dr1per, dr2per, dr3per, dr4per, dr5per,\n",
      "    female, hasboys, hasgirls, haskids, medinc, morecrimesp, moredef,\n",
      "    moreserv, name, nboys, ngirls, none, now1, now10, now11, now12,\n",
      "    now13, now14, now15, now16, now17, now18, now19, now2, now20, now3,\n",
      "    now4, now5, now6, now7, now8, now9, nowtot, OtherC, OtherR,\n",
      "    OthParty, party, percol, perf, perhs, perur, perw, propgirls,\n",
      "    Protestant, protgay, reg1, reg2, reg3, reg4, reg5, reg6, reg7,\n",
      "    reg8, reg9, region, repub, Repubs, rgroup, rtl, srvlng, statabb,\n",
      "    statalph, statenam, totchi, white, X, year\n",
      "\n",
      "The following objects are masked from daughter (pos = 5):\n",
      "\n",
      "    aauw, age, alabort, anygirls, bday, Catholic, Christian, congress,\n",
      "    Dems, demvote, district, dr1per, dr2per, dr3per, dr4per, dr5per,\n",
      "    female, hasboys, hasgirls, haskids, medinc, morecrimesp, moredef,\n",
      "    moreserv, name, nboys, ngirls, none, now1, now10, now11, now12,\n",
      "    now13, now14, now15, now16, now17, now18, now19, now2, now20, now3,\n",
      "    now4, now5, now6, now7, now8, now9, nowtot, OtherC, OtherR,\n",
      "    OthParty, party, percol, perf, perhs, perur, perw, propgirls,\n",
      "    Protestant, protgay, reg1, reg2, reg3, reg4, reg5, reg6, reg7,\n",
      "    reg8, reg9, region, repub, Repubs, rgroup, rtl, srvlng, statabb,\n",
      "    statalph, statenam, totchi, white, X, year\n",
      "\n",
      "The following objects are masked from daughters (pos = 6):\n",
      "\n",
      "    aauw, age, alabort, anygirls, bday, Catholic, Christian, congress,\n",
      "    Dems, demvote, district, dr1per, dr2per, dr3per, dr4per, dr5per,\n",
      "    female, hasboys, hasgirls, haskids, medinc, morecrimesp, moredef,\n",
      "    moreserv, name, nboys, ngirls, none, now1, now10, now11, now12,\n",
      "    now13, now14, now15, now16, now17, now18, now19, now2, now20, now3,\n",
      "    now4, now5, now6, now7, now8, now9, nowtot, OtherC, OtherR,\n",
      "    OthParty, party, percol, perf, perhs, perur, perw, propgirls,\n",
      "    Protestant, protgay, reg1, reg2, reg3, reg4, reg5, reg6, reg7,\n",
      "    reg8, reg9, region, repub, Repubs, rgroup, rtl, srvlng, statabb,\n",
      "    statalph, statenam, totchi, white, X, year\n",
      "\n",
      "The following objects are masked from daughters (pos = 7):\n",
      "\n",
      "    aauw, age, alabort, anygirls, bday, Catholic, Christian, congress,\n",
      "    Dems, demvote, district, dr1per, dr2per, dr3per, dr4per, dr5per,\n",
      "    female, hasboys, hasgirls, haskids, medinc, morecrimesp, moredef,\n",
      "    moreserv, name, nboys, ngirls, none, now1, now10, now11, now12,\n",
      "    now13, now14, now15, now16, now17, now18, now19, now2, now20, now3,\n",
      "    now4, now5, now6, now7, now8, now9, nowtot, OtherC, OtherR,\n",
      "    OthParty, party, percol, perf, perhs, perur, perw, propgirls,\n",
      "    Protestant, protgay, reg1, reg2, reg3, reg4, reg5, reg6, reg7,\n",
      "    reg8, reg9, region, repub, Repubs, rgroup, rtl, srvlng, statabb,\n",
      "    statalph, statenam, totchi, white, X, year\n",
      "\n",
      "Warning message in fn(par, ...):\n",
      "\"no valid matches found in GenMatch evaluation\"Warning message in fn(par, ...):\n",
      "\"no valid matches found in GenMatch evaluation\"Warning message in fn(par, ...):\n",
      "\"no valid matches found in GenMatch evaluation\"Warning message in fn(par, ...):\n",
      "\"no valid matches found in GenMatch evaluation\"Warning message in fn(par, ...):\n",
      "\"no valid matches found in GenMatch evaluation\"Warning message in fn(par, ...):\n",
      "\"no valid matches found in GenMatch evaluation\"Warning message in fn(par, ...):\n",
      "\"no valid matches found in GenMatch evaluation\"Warning message in fn(par, ...):\n",
      "\"no valid matches found in GenMatch evaluation\"Warning message in fn(par, ...):\n",
      "\"no valid matches found in GenMatch evaluation\"Warning message in fn(par, ...):\n",
      "\"no valid matches found in GenMatch evaluation\"Warning message in fn(par, ...):\n",
      "\"no valid matches found in GenMatch evaluation\"Warning message in fn(par, ...):\n",
      "\"no valid matches found in GenMatch evaluation\"Warning message in fn(par, ...):\n",
      "\"no valid matches found in GenMatch evaluation\"Warning message in fn(par, ...):\n",
      "\"no valid matches found in GenMatch evaluation\"Warning message in fn(par, ...):\n",
      "\"no valid matches found in GenMatch evaluation\"Warning message in fn(par, ...):\n",
      "\"no valid matches found in GenMatch evaluation\"Warning message in fn(par, ...):\n",
      "\"no valid matches found in GenMatch evaluation\"Warning message in fn(par, ...):\n",
      "\"no valid matches found in GenMatch evaluation\"Warning message in fn(par, ...):\n",
      "\"no valid matches found in GenMatch evaluation\"Warning message in fn(par, ...):\n",
      "\"no valid matches found in GenMatch evaluation\"Warning message in fn(par, ...):\n",
      "\"no valid matches found in GenMatch evaluation\"Warning message in fn(par, ...):\n",
      "\"no valid matches found in GenMatch evaluation\"Warning message in fn(par, ...):\n",
      "\"no valid matches found in GenMatch evaluation\"Warning message in fn(par, ...):\n",
      "\"no valid matches found in GenMatch evaluation\"Warning message in fn(par, ...):\n",
      "\"no valid matches found in GenMatch evaluation\"Warning message in fn(par, ...):\n",
      "\"no valid matches found in GenMatch evaluation\"Warning message in fn(par, ...):\n",
      "\"no valid matches found in GenMatch evaluation\"Warning message in fn(par, ...):\n",
      "\"no valid matches found in GenMatch evaluation\"Warning message in fn(par, ...):\n",
      "\"no valid matches found in GenMatch evaluation\"Warning message in fn(par, ...):\n",
      "\"no valid matches found in GenMatch evaluation\"Warning message in fn(par, ...):\n",
      "\"no valid matches found in GenMatch evaluation\"Warning message in fn(par, ...):\n",
      "\"no valid matches found in GenMatch evaluation\"Warning message in fn(par, ...):\n",
      "\"no valid matches found in GenMatch evaluation\"Warning message in GenMatch(Tr = Tr, X = X, estimand = \"ATT\", M = 4, pop.size = 10, :\n",
      "\"no valid matches found by GenMatch\""
     ]
    },
    {
     "name": "stdout",
     "output_type": "stream",
     "text": [
      "Treatment Effect Post Genetic Matching: 0.2019231\n",
      "Estimate...  0.20192 \n",
      "AI SE......  1.967 \n",
      "T-stat.....  0.10265 \n",
      "p.val......  0.91824 \n",
      "\n",
      "Original number of observations..............  430 \n",
      "Original number of treated obs...............  312 \n",
      "Matched number of observations...............  312 \n",
      "Matched number of observations  (unweighted).  1249 \n",
      "\n"
     ]
    },
    {
     "data": {
      "text/plain": [
       "              Length Class  Mode   \n",
       "value         12     -none- numeric\n",
       "par            6     -none- numeric\n",
       "Weight.matrix 36     -none- numeric\n",
       "matches        6     -none- numeric\n",
       "ecaliper       6     -none- numeric"
      ]
     },
     "metadata": {},
     "output_type": "display_data"
    }
   ],
   "source": [
    "attach(daughters)\n",
    " \n",
    "# bind multivariate\n",
    "X <- cbind(Dems,Repubs,Christian,age,srvlng,demvote)\n",
    " \n",
    "# set treatment variable\n",
    "Tr <- hasgirls\n",
    " \n",
    "# run genetic matching\n",
    "gen1.out <- GenMatch(Tr = Tr,\n",
    "                   X = X,\n",
    "                   estimand = \"ATT\",\n",
    "                   M = 4,\n",
    "                   pop.size = 10,\n",
    "                   max.generations = 9,\n",
    "                   wait.generations = 2,\n",
    "                   unif.seed = 123, \n",
    "                   int.seed = 92485,\n",
    "                     caliper=0.01,\n",
    "                   print.level = 0)\n",
    " \n",
    "# match to get treatment effect\n",
    "m3.out <- Match(Tr = Tr,\n",
    "                X = X,\n",
    "                Y = nowtot,\n",
    "                M = 4,\n",
    "                estimand = \"ATT\",\n",
    "                Weight.matrix = gen1.out\n",
    "          )\n",
    " \n",
    "# detach dataset\n",
    "detach(daughters)\n",
    " \n",
    "# present treatment effect\n",
    "cat(\"Treatment Effect Post Genetic Matching:\", m3.out$est)\n",
    "summary(m3.out)\n",
    "summary(gen1.out)\n",
    " \n"
   ]
  },
  {
   "cell_type": "markdown",
   "metadata": {},
   "source": [
    "## Improvement 3"
   ]
  },
  {
   "cell_type": "code",
   "execution_count": 76,
   "metadata": {},
   "outputs": [
    {
     "name": "stderr",
     "output_type": "stream",
     "text": [
      "The following object is masked _by_ .GlobalEnv:\n",
      "\n",
      "    X\n",
      "\n",
      "The following objects are masked from daughter (pos = 3):\n",
      "\n",
      "    aauw, age, alabort, anygirls, bday, Catholic, Christian, congress,\n",
      "    Dems, demvote, district, dr1per, dr2per, dr3per, dr4per, dr5per,\n",
      "    female, hasboys, hasgirls, haskids, medinc, morecrimesp, moredef,\n",
      "    moreserv, name, nboys, ngirls, none, now1, now10, now11, now12,\n",
      "    now13, now14, now15, now16, now17, now18, now19, now2, now20, now3,\n",
      "    now4, now5, now6, now7, now8, now9, nowtot, OtherC, OtherR,\n",
      "    OthParty, party, percol, perf, perhs, perur, perw, propgirls,\n",
      "    Protestant, protgay, reg1, reg2, reg3, reg4, reg5, reg6, reg7,\n",
      "    reg8, reg9, region, repub, Repubs, rgroup, rtl, srvlng, statabb,\n",
      "    statalph, statenam, totchi, white, X, year\n",
      "\n",
      "The following objects are masked from daughter (pos = 4):\n",
      "\n",
      "    aauw, age, alabort, anygirls, bday, Catholic, Christian, congress,\n",
      "    Dems, demvote, district, dr1per, dr2per, dr3per, dr4per, dr5per,\n",
      "    female, hasboys, hasgirls, haskids, medinc, morecrimesp, moredef,\n",
      "    moreserv, name, nboys, ngirls, none, now1, now10, now11, now12,\n",
      "    now13, now14, now15, now16, now17, now18, now19, now2, now20, now3,\n",
      "    now4, now5, now6, now7, now8, now9, nowtot, OtherC, OtherR,\n",
      "    OthParty, party, percol, perf, perhs, perur, perw, propgirls,\n",
      "    Protestant, protgay, reg1, reg2, reg3, reg4, reg5, reg6, reg7,\n",
      "    reg8, reg9, region, repub, Repubs, rgroup, rtl, srvlng, statabb,\n",
      "    statalph, statenam, totchi, white, X, year\n",
      "\n",
      "The following objects are masked from daughter (pos = 5):\n",
      "\n",
      "    aauw, age, alabort, anygirls, bday, Catholic, Christian, congress,\n",
      "    Dems, demvote, district, dr1per, dr2per, dr3per, dr4per, dr5per,\n",
      "    female, hasboys, hasgirls, haskids, medinc, morecrimesp, moredef,\n",
      "    moreserv, name, nboys, ngirls, none, now1, now10, now11, now12,\n",
      "    now13, now14, now15, now16, now17, now18, now19, now2, now20, now3,\n",
      "    now4, now5, now6, now7, now8, now9, nowtot, OtherC, OtherR,\n",
      "    OthParty, party, percol, perf, perhs, perur, perw, propgirls,\n",
      "    Protestant, protgay, reg1, reg2, reg3, reg4, reg5, reg6, reg7,\n",
      "    reg8, reg9, region, repub, Repubs, rgroup, rtl, srvlng, statabb,\n",
      "    statalph, statenam, totchi, white, X, year\n",
      "\n",
      "The following objects are masked from daughters (pos = 6):\n",
      "\n",
      "    aauw, age, alabort, anygirls, bday, Catholic, Christian, congress,\n",
      "    Dems, demvote, district, dr1per, dr2per, dr3per, dr4per, dr5per,\n",
      "    female, hasboys, hasgirls, haskids, medinc, morecrimesp, moredef,\n",
      "    moreserv, name, nboys, ngirls, none, now1, now10, now11, now12,\n",
      "    now13, now14, now15, now16, now17, now18, now19, now2, now20, now3,\n",
      "    now4, now5, now6, now7, now8, now9, nowtot, OtherC, OtherR,\n",
      "    OthParty, party, percol, perf, perhs, perur, perw, propgirls,\n",
      "    Protestant, protgay, reg1, reg2, reg3, reg4, reg5, reg6, reg7,\n",
      "    reg8, reg9, region, repub, Repubs, rgroup, rtl, srvlng, statabb,\n",
      "    statalph, statenam, totchi, white, X, year\n",
      "\n",
      "The following objects are masked from daughters (pos = 7):\n",
      "\n",
      "    aauw, age, alabort, anygirls, bday, Catholic, Christian, congress,\n",
      "    Dems, demvote, district, dr1per, dr2per, dr3per, dr4per, dr5per,\n",
      "    female, hasboys, hasgirls, haskids, medinc, morecrimesp, moredef,\n",
      "    moreserv, name, nboys, ngirls, none, now1, now10, now11, now12,\n",
      "    now13, now14, now15, now16, now17, now18, now19, now2, now20, now3,\n",
      "    now4, now5, now6, now7, now8, now9, nowtot, OtherC, OtherR,\n",
      "    OthParty, party, percol, perf, perhs, perur, perw, propgirls,\n",
      "    Protestant, protgay, reg1, reg2, reg3, reg4, reg5, reg6, reg7,\n",
      "    reg8, reg9, region, repub, Repubs, rgroup, rtl, srvlng, statabb,\n",
      "    statalph, statenam, totchi, white, X, year\n",
      "\n",
      "Warning message in fn(par, ...):\n",
      "\"no valid matches found in GenMatch evaluation\"Warning message in fn(par, ...):\n",
      "\"no valid matches found in GenMatch evaluation\"Warning message in fn(par, ...):\n",
      "\"no valid matches found in GenMatch evaluation\"Warning message in fn(par, ...):\n",
      "\"no valid matches found in GenMatch evaluation\"Warning message in fn(par, ...):\n",
      "\"no valid matches found in GenMatch evaluation\"Warning message in fn(par, ...):\n",
      "\"no valid matches found in GenMatch evaluation\"Warning message in fn(par, ...):\n",
      "\"no valid matches found in GenMatch evaluation\"Warning message in fn(par, ...):\n",
      "\"no valid matches found in GenMatch evaluation\"Warning message in fn(par, ...):\n",
      "\"no valid matches found in GenMatch evaluation\"Warning message in fn(par, ...):\n",
      "\"no valid matches found in GenMatch evaluation\"Warning message in fn(par, ...):\n",
      "\"no valid matches found in GenMatch evaluation\"Warning message in fn(par, ...):\n",
      "\"no valid matches found in GenMatch evaluation\"Warning message in fn(par, ...):\n",
      "\"no valid matches found in GenMatch evaluation\"Warning message in fn(par, ...):\n",
      "\"no valid matches found in GenMatch evaluation\"Warning message in fn(par, ...):\n",
      "\"no valid matches found in GenMatch evaluation\"Warning message in fn(par, ...):\n",
      "\"no valid matches found in GenMatch evaluation\"Warning message in fn(par, ...):\n",
      "\"no valid matches found in GenMatch evaluation\"Warning message in fn(par, ...):\n",
      "\"no valid matches found in GenMatch evaluation\"Warning message in fn(par, ...):\n",
      "\"no valid matches found in GenMatch evaluation\"Warning message in fn(par, ...):\n",
      "\"no valid matches found in GenMatch evaluation\"Warning message in fn(par, ...):\n",
      "\"no valid matches found in GenMatch evaluation\"Warning message in fn(par, ...):\n",
      "\"no valid matches found in GenMatch evaluation\"Warning message in fn(par, ...):\n",
      "\"no valid matches found in GenMatch evaluation\"Warning message in fn(par, ...):\n",
      "\"no valid matches found in GenMatch evaluation\"Warning message in fn(par, ...):\n",
      "\"no valid matches found in GenMatch evaluation\"Warning message in fn(par, ...):\n",
      "\"no valid matches found in GenMatch evaluation\"Warning message in fn(par, ...):\n",
      "\"no valid matches found in GenMatch evaluation\"Warning message in fn(par, ...):\n",
      "\"no valid matches found in GenMatch evaluation\"Warning message in fn(par, ...):\n",
      "\"no valid matches found in GenMatch evaluation\"Warning message in fn(par, ...):\n",
      "\"no valid matches found in GenMatch evaluation\"Warning message in fn(par, ...):\n",
      "\"no valid matches found in GenMatch evaluation\"Warning message in fn(par, ...):\n",
      "\"no valid matches found in GenMatch evaluation\"Warning message in fn(par, ...):\n",
      "\"no valid matches found in GenMatch evaluation\"Warning message in fn(par, ...):\n",
      "\"no valid matches found in GenMatch evaluation\"Warning message in fn(par, ...):\n",
      "\"no valid matches found in GenMatch evaluation\"Warning message in fn(par, ...):\n",
      "\"no valid matches found in GenMatch evaluation\"Warning message in fn(par, ...):\n",
      "\"no valid matches found in GenMatch evaluation\"Warning message in fn(par, ...):\n",
      "\"no valid matches found in GenMatch evaluation\"Warning message in fn(par, ...):\n",
      "\"no valid matches found in GenMatch evaluation\"Warning message in fn(par, ...):\n",
      "\"no valid matches found in GenMatch evaluation\"Warning message in fn(par, ...):\n",
      "\"no valid matches found in GenMatch evaluation\"Warning message in fn(par, ...):\n",
      "\"no valid matches found in GenMatch evaluation\"Warning message in fn(par, ...):\n",
      "\"no valid matches found in GenMatch evaluation\"Warning message in fn(par, ...):\n",
      "\"no valid matches found in GenMatch evaluation\"Warning message in fn(par, ...):\n",
      "\"no valid matches found in GenMatch evaluation\"Warning message in fn(par, ...):\n",
      "\"no valid matches found in GenMatch evaluation\"Warning message in fn(par, ...):\n",
      "\"no valid matches found in GenMatch evaluation\"Warning message in fn(par, ...):\n",
      "\"no valid matches found in GenMatch evaluation\"Warning message in fn(par, ...):\n",
      "\"no valid matches found in GenMatch evaluation\"Warning message in fn(par, ...):\n",
      "\"no valid matches found in GenMatch evaluation\"Warning message in fn(par, ...):\n",
      "\"no valid matches found in GenMatch evaluation\"Warning message in fn(par, ...):\n",
      "\"no valid matches found in GenMatch evaluation\"Warning message in fn(par, ...):\n",
      "\"no valid matches found in GenMatch evaluation\"Warning message in fn(par, ...):\n",
      "\"no valid matches found in GenMatch evaluation\"Warning message in fn(par, ...):\n",
      "\"no valid matches found in GenMatch evaluation\"Warning message in fn(par, ...):\n",
      "\"no valid matches found in GenMatch evaluation\"Warning message in fn(par, ...):\n",
      "\"no valid matches found in GenMatch evaluation\"Warning message in fn(par, ...):\n",
      "\"no valid matches found in GenMatch evaluation\"Warning message in fn(par, ...):\n",
      "\"no valid matches found in GenMatch evaluation\"Warning message in fn(par, ...):\n",
      "\"no valid matches found in GenMatch evaluation\"Warning message in fn(par, ...):\n",
      "\"no valid matches found in GenMatch evaluation\"Warning message in fn(par, ...):\n",
      "\"no valid matches found in GenMatch evaluation\"Warning message in fn(par, ...):\n",
      "\"no valid matches found in GenMatch evaluation\"Warning message in fn(par, ...):\n",
      "\"no valid matches found in GenMatch evaluation\"Warning message in fn(par, ...):\n",
      "\"no valid matches found in GenMatch evaluation\"Warning message in fn(par, ...):\n",
      "\"no valid matches found in GenMatch evaluation\"Warning message in fn(par, ...):\n",
      "\"no valid matches found in GenMatch evaluation\"Warning message in fn(par, ...):\n",
      "\"no valid matches found in GenMatch evaluation\"Warning message in fn(par, ...):\n",
      "\"no valid matches found in GenMatch evaluation\"Warning message in fn(par, ...):\n",
      "\"no valid matches found in GenMatch evaluation\"Warning message in fn(par, ...):\n",
      "\"no valid matches found in GenMatch evaluation\"Warning message in fn(par, ...):\n",
      "\"no valid matches found in GenMatch evaluation\"Warning message in fn(par, ...):\n",
      "\"no valid matches found in GenMatch evaluation\"Warning message in fn(par, ...):\n",
      "\"no valid matches found in GenMatch evaluation\"Warning message in fn(par, ...):\n",
      "\"no valid matches found in GenMatch evaluation\"Warning message in GenMatch(Tr = Tr, X = X, estimand = \"ATT\", M = 6, pop.size = 18, :\n",
      "\"no valid matches found by GenMatch\""
     ]
    },
    {
     "name": "stdout",
     "output_type": "stream",
     "text": [
      "Treatment Effect Post Genetic Matching: 0.8585165\n",
      "Estimate...  0.85852 \n",
      "AI SE......  2.0355 \n",
      "T-stat.....  0.42178 \n",
      "p.val......  0.67319 \n",
      "\n",
      "Original number of observations..............  430 \n",
      "Original number of treated obs...............  312 \n",
      "Matched number of observations...............  312 \n",
      "Matched number of observations  (unweighted).  1877 \n",
      "\n"
     ]
    },
    {
     "data": {
      "text/plain": [
       "              Length Class  Mode   \n",
       "value         12     -none- numeric\n",
       "par            6     -none- numeric\n",
       "Weight.matrix 36     -none- numeric\n",
       "matches        6     -none- numeric\n",
       "ecaliper       6     -none- numeric"
      ]
     },
     "metadata": {},
     "output_type": "display_data"
    }
   ],
   "source": [
    "# attach dataset\n",
    "attach(daughters)\n",
    " \n",
    "# bind multivariate\n",
    "X <- cbind(Dems,Repubs,Christian,age,srvlng,demvote)\n",
    " \n",
    "# set treatment variable\n",
    "Tr <- hasgirls\n",
    " \n",
    "# run genetic matching\n",
    "gen1.out <- GenMatch(Tr = Tr,\n",
    "                   X = X,\n",
    "                   estimand = \"ATT\",\n",
    "                   M = 6,\n",
    "                   pop.size = 18,\n",
    "                   max.generations = 12,\n",
    "                   wait.generations = 4,\n",
    "                   unif.seed = 123, \n",
    "                   int.seed = 92485,\n",
    "                     caliper=0.003,\n",
    "                   print.level = 0)\n",
    " \n",
    "# match to get treatment effect\n",
    "m3.out <- Match(Tr = Tr,\n",
    "                X = X,\n",
    "                Y = nowtot,\n",
    "                M = 6,\n",
    "                estimand = \"ATT\",\n",
    "                Weight.matrix = gen1.out\n",
    "          )\n",
    " \n",
    "# detach dataset\n",
    "detach(daughters)\n",
    " \n",
    "# present treatment effect\n",
    "cat(\"Treatment Effect Post Genetic Matching:\", m3.out$est)\n",
    "summary(m3.out)\n",
    "summary(gen1.out)\n",
    " \n"
   ]
  },
  {
   "cell_type": "markdown",
   "metadata": {},
   "source": [
    "## Some Changes"
   ]
  },
  {
   "cell_type": "code",
   "execution_count": 77,
   "metadata": {},
   "outputs": [
    {
     "ename": "ERROR",
     "evalue": "Error in step6_RepeatDf$newtreat[step6_RepeatDf$nboys >= 2 & step6_RepeatDff$ngirls == : object 'step6_RepeatDff' not found\n",
     "output_type": "error",
     "traceback": [
      "Error in step6_RepeatDf$newtreat[step6_RepeatDf$nboys >= 2 & step6_RepeatDff$ngirls == : object 'step6_RepeatDff' not found\nTraceback:\n"
     ]
    }
   ],
   "source": [
    "#I had to ask Daniel for some Help\n",
    "step6_RepeatDf <- daughters\n",
    "step6_RepeatDf$newtreat <- NA\n",
    " \n",
    "# we apply the conditions for control and treatment\n",
    "step6_RepeatDf$newtreat[step6_RepeatDf$ngirls >= 2 & step6_RepeatDf$nboys == 0] <- 1\n",
    "step6_RepeatDf$newtreat[step6_RepeatDf$nboys >= 2 & step6_RepeatDff$ngirls == 0] <- 0\n",
    " \n",
    "# we the keep in the data only the ones that apply to the condition\n",
    "step6_RepeatDf<- step6_RepeatDf[ which(step6_RepeatDf$newtreat==0 | step6_RepeatDf$newtreat == 1), ]\n",
    " \n",
    " \n",
    "######step 1 again:\n",
    "Q2lm6 <- lm(nowtot ~ newtreat + dems + repubs+ christian + age + srvlng + demvote , data = step6_RepeatDf)\n",
    " \n",
    "coef(summary(Q2lm6))[\"newtreat\",\"Estimate\"]\n",
    "Q2mout6 <- MatchBalance(newtreat ~ dems + repubs+ christian + age + srvlng + demvote, data = step6_RepeatDf, nboots = 500)\n",
    " \n",
    "repeat_Balance1 <- bal.plot(step6_RepeatDf$newtreat ~ step6_RepeatDf$dems,  type = \"histogram\", treat = step6_RepeatDf$newtreat, mirror = TRUE)\n",
    "repeat_Balance2 <- bal.plot(step6_RepeatDf$newtreat ~ step6_RepeatDf$repubs,  type = \"histogram\", treat = step6_RepeatDf$newtreat, mirror = TRUE)\n",
    "repeat_Balance3 <- bal.plot(step6_RepeatDf$newtreat ~ step6_RepeatDf$christian,  type = \"histogram\", treat = step6_RepeatDf$newtreat, mirror = TRUE)\n",
    "repeat_Balance4 <- bal.plot(step6_RepeatDf$newtreat ~ step6_RepeatDf$age,  type = \"histogram\", treat = step6_RepeatDf$newtreat, mirror = TRUE)\n",
    "repeat_Balance5 <- bal.plot(step6_RepeatDf$newtreat ~ step6_RepeatDf$srvlng,  type = \"histogram\", treat = step6_RepeatDf$newtreat, mirror = TRUE)\n",
    "repeat_Balance6 <- bal.plot(step6_RepeatDf$newtreat ~ step6_RepeatDf$demvote,  type = \"histogram\", treat = step6_RepeatDf$newtreat, mirror = TRUE)\n",
    " \n",
    "grid.arrange(repeat_Balance1, repeat_Balance2,repeat_Balance3, repeat_Balance4, repeat_Balance5, repeat_Balance6,  nrow = 2)\n",
    " \n",
    "###Step 2 revised:\n",
    " \n",
    "daughter_Y6= step6_RepeatDf$nowtot\n",
    " \n",
    "Q2Tr6 = step6_RepeatDf$newtreat\n",
    " \n",
    "Q2_2_X6 <- cbind(step6_RepeatDf$dems, step6_RepeatDf$repubs, step6_RepeatDf$christian, step6_RepeatDf$age , step6_RepeatDf$srvlng , step6_RepeatDf$demvote)\n",
    " \n",
    " \n",
    "###\n",
    "invisible(capture.output(Q2genout6 <- GenMatch(Tr = Q2Tr6, X = Q2_2_X6, estimand ='ATT', pop.size = 10 , BalanceMatrix = Q2_2_X6 , max.generations = 15 , unif.seed = 123, int.seed = 92485)))\n",
    " \n",
    " \n",
    "matchout.gen6 <- Match(Tr = Q2Tr6, X= Q2_2_X6, estimand ='ATT', Weight.matrix = Q2genout6, M=1)\n",
    " \n",
    "mbout_Q2_26 <- MatchBalance(newtreat ~ dems + repubs+ christian + age + srvlng + demvote, data = step6_RepeatDf, match.out = matchout.gen6, nboots=1000)\n",
    "mout_Q2_2_TE6 <- Match( Weight.matrix = Q2genout6, Y= daughter_Y6, Tr = Q2Tr6, X= Q2_2_X6, estimand ='ATT', M=1)\n",
    " \n",
    "mbout_Q2_2_TE <- MatchBalance(newtreat ~ dems + repubs+ christian + age + srvlng + demvote, data = step6_RepeatDf, match.out = mout_Q2_2_TE6, nboots=1000)\n",
    "summary(mout_Q2_2_TE6)\n",
    "mout_Q2_2_TE6$est\n",
    " \n"
   ]
  },
  {
   "cell_type": "markdown",
   "metadata": {},
   "source": [
    "## Matching with #totchi"
   ]
  },
  {
   "cell_type": "code",
   "execution_count": 78,
   "metadata": {},
   "outputs": [
    {
     "data": {
      "text/html": [
       "2.49767441860465"
      ],
      "text/latex": [
       "2.49767441860465"
      ],
      "text/markdown": [
       "2.49767441860465"
      ],
      "text/plain": [
       "[1] 2.497674"
      ]
     },
     "metadata": {},
     "output_type": "display_data"
    },
    {
     "data": {
      "text/html": [
       "1.22325581395349"
      ],
      "text/latex": [
       "1.22325581395349"
      ],
      "text/markdown": [
       "1.22325581395349"
      ],
      "text/plain": [
       "[1] 1.223256"
      ]
     },
     "metadata": {},
     "output_type": "display_data"
    },
    {
     "data": {
      "text/html": [
       "1.27441860465116"
      ],
      "text/latex": [
       "1.27441860465116"
      ],
      "text/markdown": [
       "1.27441860465116"
      ],
      "text/plain": [
       "[1] 1.274419"
      ]
     },
     "metadata": {},
     "output_type": "display_data"
    }
   ],
   "source": [
    "# Your code here\n",
    "mean(daughters$totchi)\n",
    "mean(daughters$nboys)\n",
    "mean(daughters$ngirls)\n"
   ]
  },
  {
   "cell_type": "markdown",
   "metadata": {},
   "source": [
    "## Question 3\n"
   ]
  },
  {
   "cell_type": "code",
   "execution_count": 79,
   "metadata": {},
   "outputs": [
    {
     "ename": "ERROR",
     "evalue": "Error in clean_names(.): could not find function \"clean_names\"\n",
     "output_type": "error",
     "traceback": [
      "Error in clean_names(.): could not find function \"clean_names\"\nTraceback:\n",
      "1. read.csv(\"http://bit.ly/BRFSS_data\") %>% clean_names()",
      "2. withVisible(eval(quote(`_fseq`(`_lhs`)), env, env))",
      "3. eval(quote(`_fseq`(`_lhs`)), env, env)",
      "4. eval(quote(`_fseq`(`_lhs`)), env, env)",
      "5. `_fseq`(`_lhs`)",
      "6. freduce(value, `_function_list`)",
      "7. withVisible(function_list[[k]](value))",
      "8. function_list[[k]](value)"
     ]
    }
   ],
   "source": [
    "brfss = read.csv(\"http://bit.ly/BRFSS_data\") %>% \n",
    "  #clean_names()\n",
    "head(brfss)"
   ]
  },
  {
   "cell_type": "markdown",
   "metadata": {},
   "source": [
    "## Checking Balance of Bfrss"
   ]
  },
  {
   "cell_type": "code",
   "execution_count": 80,
   "metadata": {},
   "outputs": [
    {
     "name": "stderr",
     "output_type": "stream",
     "text": [
      "Assuming 'Yes' is the treated level. If not, supply an argument to 'focal'.\n",
      "Warning message:\n",
      "\"Standardized mean differences and raw mean differences are present in the same plot. \n",
      "Use the 'stars' argument to distinguish between them and appropriately label the x-axis.\""
     ]
    },
    {
     "data": {
      "image/png": "[encoded data removed]",
      "text/plain": [
       "plot without title"
      ]
     },
     "metadata": {},
     "output_type": "display_data"
    }
   ],
   "source": [
    "#(From Cobalt Documentation)\n",
    "library(WeightIt)\n",
    "library(cobalt)\n",
    " \n",
    "mb1 <- weightit(COPD ~ SMOKE+RACE+AGE+SEX+WTLBS+AVEDRNK2,\n",
    "                   data = brfss, estimand = \"ATT\", method = \"ps\")\n",
    "love.plot(mb1,thresholds = c(m = .1), var.order = \"unadjusted\")\n"
   ]
  },
  {
   "cell_type": "markdown",
   "metadata": {},
   "source": [
    "## Mahalanobis Matching\n"
   ]
  },
  {
   "cell_type": "code",
   "execution_count": 83,
   "metadata": {},
   "outputs": [
    {
     "name": "stderr",
     "output_type": "stream",
     "text": [
      "Warning message:\n",
      "\"package 'MatchIt' was built under R version 3.6.3\""
     ]
    },
    {
     "ename": "ERROR",
     "evalue": "Error: package or namespace load failed for 'MatchIt' in loadNamespace(j <- i[[1L]], c(lib.loc, .libPaths()), versionCheck = vI[[j]]):\n namespace 'Rcpp' 1.0.1 is already loaded, but >= 1.0.5 is required\n",
     "output_type": "error",
     "traceback": [
      "Error: package or namespace load failed for 'MatchIt' in loadNamespace(j <- i[[1L]], c(lib.loc, .libPaths()), versionCheck = vI[[j]]):\n namespace 'Rcpp' 1.0.1 is already loaded, but >= 1.0.5 is required\nTraceback:\n",
      "1. library(MatchIt)",
      "2. tryCatch({\n .     attr(package, \"LibPath\") <- which.lib.loc\n .     ns <- loadNamespace(package, lib.loc)\n .     env <- attachNamespace(ns, pos = pos, deps, exclude, include.only)\n . }, error = function(e) {\n .     P <- if (!is.null(cc <- conditionCall(e))) \n .         paste(\" in\", deparse(cc)[1L])\n .     else \"\"\n .     msg <- gettextf(\"package or namespace load failed for %s%s:\\n %s\", \n .         sQuote(package), P, conditionMessage(e))\n .     if (logical.return) \n .         message(paste(\"Error:\", msg), domain = NA)\n .     else stop(msg, call. = FALSE, domain = NA)\n . })",
      "3. tryCatchList(expr, classes, parentenv, handlers)",
      "4. tryCatchOne(expr, names, parentenv, handlers[[1L]])",
      "5. value[[3L]](cond)",
      "6. stop(msg, call. = FALSE, domain = NA)"
     ]
    }
   ],
   "source": [
    "\n",
    "library(MatchIt)\n",
    "brfss[sapply(brfss, is.character)] <- lapply(brfss[sapply(brfss, is.character)], as.factor)\n",
    "m.out2=matchit(COPD ~ SMOKE+RACE+SEX+WTLBS,data=brfss, mahvars=c(\"SMOKE\",\"RACE\",\"SEX\",\"WTLBS\"),caliper=.25, replace=FALSE,estimand = \"ATT\")\n",
    "summary(m.out2)\n"
   ]
  },
  {
   "cell_type": "markdown",
   "metadata": {},
   "source": [
    "## Mahalanobis Matching 2"
   ]
  },
  {
   "cell_type": "code",
   "execution_count": 84,
   "metadata": {},
   "outputs": [
    {
     "ename": "ERROR",
     "evalue": "Error in array(x, c(length(x), 1L), if (!is.null(names(x))) list(names(x), : 'data' must be of a vector type, was 'NULL'\n",
     "output_type": "error",
     "traceback": [
      "Error in array(x, c(length(x), 1L), if (!is.null(names(x))) list(names(x), : 'data' must be of a vector type, was 'NULL'\nTraceback:\n",
      "1. Match(Tr = brfss$smoke, X = X1, estimand = \"ATE\", M = 1, Y = brfss$copd, \n .     Weight = 2)",
      "2. as.matrix(X)",
      "3. as.matrix.default(X)",
      "4. array(x, c(length(x), 1L), if (!is.null(names(x))) list(names(x), \n .     NULL) else NULL)"
     ]
    }
   ],
   "source": [
    "## Got some help from Daniel Kalu\n",
    " \n",
    "X1 <- cbind( brfss$race, brfss$age, brfss$sex, brfss$wtlbs, brfss$avedrnk2)\n",
    "X2<- Match( Tr= brfss$smoke , X= X1, estimand = \"ATE\", M=1, Y = brfss$copd, Weight = 2)\n",
    "m.out3 <- Match( Tr= brfss$smoke , X= X1, estimand = \"ATE\", M=1, Y = brfss$copd, Weight = 2)\n",
    "mb2 <- MatchBalance(brfss$smoke ~ brfss$race + brfss$age+ brfss$sex+ brfss$wtlbs+ brfss$avedrnk2, match.out = X1, nboots = 1000)\n"
   ]
  }
 ],
 "metadata": {
  "kernelspec": {
   "display_name": "R",
   "language": "R",
   "name": "ir"
  },
  "language_info": {
   "codemirror_mode": "r",
   "file_extension": ".r",
   "mimetype": "text/x-r-source",
   "name": "R",
   "pygments_lexer": "r",
   "version": "3.6.1"
  }
 },
 "nbformat": 4,
 "nbformat_minor": 2
}
